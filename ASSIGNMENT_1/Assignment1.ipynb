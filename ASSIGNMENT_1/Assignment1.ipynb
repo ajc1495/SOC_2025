{
 "cells": [
  {
   "cell_type": "code",
   "execution_count": 16,
   "id": "df73e22e-3512-47e2-b38c-5f7ef5e3f7f2",
   "metadata": {},
   "outputs": [
    {
     "name": "stdout",
     "output_type": "stream",
     "text": [
      "Prediction for year 2024 men's time: 9.519831167090974\n",
      "Prediction for year 2024 women's time: 10.461474064667376\n"
     ]
    }
   ],
   "source": [
    "import numpy as np\n",
    "\n",
    "\n",
    "Years_m = np.array([1896, 1900, 1904, 1908, 1912, 1920, 1924, 1928, 1932, 1936, 1948, 1952, 1956, 1960, 1964, 1968, 1972, 1976, 1980, 1984, 1988, 1992, 1996, 2000, 2004, 2008, 2012, 2016, 2020])\n",
    "Years_w = np.array([1928, 1932, 1936, 1948, 1952, 1956, 1960, 1964, 1968, 1972, 1976, 1980, 1984, 1988, 1992, 1996, 2004, 2008, 2012, 2016, 2020])\n",
    "T_men = np.array([12, 11, 11, 10.8, 10.8, 10.8, 10.6, 10.8, 10.3, 10.3, 10.3, 10.4, 10.5, 10.2, 10, 9.95, 10.14, 10.06, 10.25, 9.99, 9.92, 9.96, 9.84, 9.87, 9.85, 9.69, 9.63, 9.81, 9.8])\n",
    "T_Women = np.array([12.20, 11.90, 11.50, 11.90, 11.50, 11.50, 11.00, 11.40, 11.00, 11.07, 11.08, 11.06, 10.97, 10.62, 10.82, 10.94, 10.93, 10.78, 10.75, 10.71, 10.61])\n",
    "theta_m = np.random.randn(2, 1)\n",
    "\n",
    "Y_m = Years_m.reshape(29, 1)\n",
    "T_m = T_men.reshape(29, 1)\n",
    "Y_w = Years_w.reshape(21,1)\n",
    "T_w = T_Women.reshape(21,1)\n",
    "\n",
    "\n",
    "def normalize(X):\n",
    "    mean = np.mean(X)\n",
    "    std = np.std(X)\n",
    "    X_norm = (X - mean) / std\n",
    "    return X_norm, mean, std\n",
    "\n",
    "Y_1m, mean_Ym, std_Ym = normalize(Y_m)\n",
    "Y_1w, mean_Yw, std_Yw = normalize(Y_w)\n",
    "\n",
    "\n",
    "def gradient_descent(Y_1m, T_1, theta, learning_rate, iterations):   \n",
    "    m = len(T_1)\n",
    "    Y_2 = np.c_[np.ones((m, 1)), Y_1m]  \n",
    "\n",
    "    for i in range(iterations):\n",
    "        h_theta = np.matmul(Y_2, theta)\n",
    "        err = h_theta - T_1\n",
    "        theta -= ((learning_rate) * np.matmul(Y_2.T, err)) / (m)\n",
    "    \n",
    "    return theta\n",
    "\n",
    "\n",
    "learning_rate = 0.1\n",
    "iterations = 1000\n",
    "\n",
    "\n",
    "theta_m = gradient_descent(Y_1m, T_m, theta_m, learning_rate, iterations)\n",
    "\n",
    "theta_w = np.random.randn(2, 1)\n",
    "\n",
    "theta_w = gradient_descent(Y_1w, T_w, theta_w, learning_rate, iterations)\n",
    "\n",
    "y = np.array([2024])\n",
    "y_norm_m = (y - mean_Ym) / std_Ym\n",
    "Y_New_m = np.array([1, y_norm_m[0]])  \n",
    "Final_m = np.matmul(Y_New_m, theta_m)\n",
    "print(\"Prediction for year 2024 men's time:\", Final_m[0])\n",
    "\n",
    "y = np.array([2024])\n",
    "y_norm_w = (y - mean_Yw) / std_Yw\n",
    "Y_New_w = np.array([1, y_norm_w[0]])  \n",
    "Final_w = np.matmul(Y_New_w, theta_w)\n",
    "print(\"Prediction for year 2024 women's time:\", Final_w[0])\n",
    "\n",
    "\n"
   ]
  },
  {
   "cell_type": "code",
   "execution_count": null,
   "id": "8b3839da-5889-4247-8b72-5a68a6f70a28",
   "metadata": {},
   "outputs": [],
   "source": []
  }
 ],
 "metadata": {
  "kernelspec": {
   "display_name": "Python 3 (ipykernel)",
   "language": "python",
   "name": "python3"
  },
  "language_info": {
   "codemirror_mode": {
    "name": "ipython",
    "version": 3
   },
   "file_extension": ".py",
   "mimetype": "text/x-python",
   "name": "python",
   "nbconvert_exporter": "python",
   "pygments_lexer": "ipython3",
   "version": "3.12.4"
  }
 },
 "nbformat": 4,
 "nbformat_minor": 5
}
